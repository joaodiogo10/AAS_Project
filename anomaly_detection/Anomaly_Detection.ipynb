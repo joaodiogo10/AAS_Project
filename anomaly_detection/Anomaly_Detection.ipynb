{
 "cells": [
  {
   "cell_type": "markdown",
   "metadata": {},
   "source": [
    "# Lab -  Anomaly Detection"
   ]
  },
  {
   "cell_type": "markdown",
   "metadata": {},
   "source": [
    "**Objectives**: implement Gaussian distribution model to detect anomalous behavior in server computers. \n",
    "\n",
    "While the servers were operating, 2D dataset regarding the through-put (mb/s) and latency (ms) of response of each server were collected. Vast majority of the examples were normal (non-anomalous) but also a few examples of servers acting anomalously.\n",
    "On that dataset you will ﬁt a Gaussian distribution and then ﬁnd values that have very low probability and hence can be considered anomalies. \n"
   ]
  },
  {
   "cell_type": "code",
   "execution_count": 53,
   "metadata": {},
   "outputs": [],
   "source": [
    "# Loading relevant libraries and the dataset\n",
    "import warnings\n",
    "warnings.filterwarnings('ignore',category=FutureWarning)\n",
    "warnings.filterwarnings('ignore',category=RuntimeWarning)\n",
    "\n",
    "import numpy as np\n",
    "import matplotlib.pyplot as plt\n",
    "import matplotlib\n",
    "%matplotlib inline"
   ]
  },
  {
   "cell_type": "markdown",
   "metadata": {},
   "source": [
    "### Load Data \n",
    "Use loadmat to open file ex9data.mat and get train, test and validation data. Consult previous labs how to use loadmat. "
   ]
  },
  {
   "cell_type": "code",
   "execution_count": 54,
   "metadata": {},
   "outputs": [
    {
     "name": "stdout",
     "output_type": "stream",
     "text": [
      "Total normal examples: 197\n",
      "Total abnormal examples: 101\n"
     ]
    }
   ],
   "source": [
    "normal_ap = np.loadtxt(\"home_beacons_obs_features.dat\", delimiter=\" \")\n",
    "abnormal_ap =  np.loadtxt(\"other_home_beacons_obs_features.dat\", delimiter=\" \")\n",
    "\n",
    "print(f\"Total normal examples: {len(normal_ap)}\")\n",
    "print(f\"Total abnormal examples: {len(abnormal_ap)}\")"
   ]
  },
  {
   "attachments": {},
   "cell_type": "markdown",
   "metadata": {},
   "source": [
    "### Transform data\n"
   ]
  },
  {
   "cell_type": "code",
   "execution_count": 55,
   "metadata": {},
   "outputs": [
    {
     "data": {
      "image/png": "[encoded data removed]",
      "text/plain": [
       "<Figure size 1440x432 with 16 Axes>"
      ]
     },
     "metadata": {
      "needs_background": "light"
     },
     "output_type": "display_data"
    }
   ],
   "source": [
    "plt.figure(figsize=(20, 6))\n",
    "\n",
    "cols = (2,5,6,7)\n",
    "\n",
    "for i in range (0, 8):\n",
    "    plt.subplot(2, 8, i + 1)\n",
    "    plt.hist(normal_ap[:, i])\n",
    "\n",
    "trans_normal_ap = np.copy(normal_ap)\n",
    "for i in cols:\n",
    "    trans_normal_ap[:,i] = np.log(normal_ap[:,i])\n",
    "\n",
    "trans_normal_ap[np.isinf(trans_normal_ap)] = 0\n",
    "for i in range(0, 8):\n",
    "    plt.subplot(2, 8, 8 + i + 1)\n",
    "    plt.hist(trans_normal_ap[:, i])\n",
    "\n",
    "trans_abnormal_ap = np.copy(abnormal_ap)\n",
    "for i in cols:\n",
    "    trans_abnormal_ap[:,i] = np.log(abnormal_ap[:,i])\n",
    "\n",
    "trans_abnormal_ap[np.isinf(trans_abnormal_ap)] = 0\n",
    "\n",
    "trans_normal_ap = np.delete(trans_normal_ap, (1,4,5,6,7), 1)\n",
    "trans_abnormal_ap = np.delete(trans_abnormal_ap, (1,4,5,6,7), 1)\n"
   ]
  },
  {
   "attachments": {},
   "cell_type": "markdown",
   "metadata": {},
   "source": [
    "### Build sets"
   ]
  },
  {
   "cell_type": "code",
   "execution_count": 56,
   "metadata": {},
   "outputs": [
    {
     "name": "stdout",
     "output_type": "stream",
     "text": [
      "Training set\n",
      " Total examples: 118\n",
      " Total normal: 118\n",
      "Valadition set\n",
      " Total examples: 59\n",
      " Total normal: 39\n",
      " Total abnormal: 20\n",
      "Test set\n",
      " Total examples: 59\n",
      " Total normal: 39\n",
      " Total abnormal: 20\n",
      "Train set: (118, 3)\n",
      "Validation set: (59, 3)\n"
     ]
    },
    {
     "ename": "IndexError",
     "evalue": "index 94 is out of bounds for axis 0 with size 79",
     "output_type": "error",
     "traceback": [
      "\u001b[1;31m---------------------------------------------------------------------------\u001b[0m",
      "\u001b[1;31mIndexError\u001b[0m                                Traceback (most recent call last)",
      "\u001b[1;32mc:\\Users\\Joao\\Desktop\\AAS\\AAS_project\\python\\anomaly_detection\\Anomaly_Detection.ipynb Cell 9\u001b[0m in \u001b[0;36m<cell line: 40>\u001b[1;34m()\u001b[0m\n\u001b[0;32m     <a href='vscode-notebook-cell:/c%3A/Users/Joao/Desktop/AAS/AAS_project/python/anomaly_detection/Anomaly_Detection.ipynb#X11sZmlsZQ%3D%3D?line=36'>37</a>\u001b[0m \u001b[39mprint\u001b[39m(\u001b[39mf\u001b[39m\u001b[39m\"\u001b[39m\u001b[39mValidation set: \u001b[39m\u001b[39m{\u001b[39;00mx_val\u001b[39m.\u001b[39mshape\u001b[39m}\u001b[39;00m\u001b[39m\"\u001b[39m)\n\u001b[0;32m     <a href='vscode-notebook-cell:/c%3A/Users/Joao/Desktop/AAS/AAS_project/python/anomaly_detection/Anomaly_Detection.ipynb#X11sZmlsZQ%3D%3D?line=38'>39</a>\u001b[0m \u001b[39m#remove used examples\u001b[39;00m\n\u001b[1;32m---> <a href='vscode-notebook-cell:/c%3A/Users/Joao/Desktop/AAS/AAS_project/python/anomaly_detection/Anomaly_Detection.ipynb#X11sZmlsZQ%3D%3D?line=39'>40</a>\u001b[0m trans_normal_ap \u001b[39m=\u001b[39m np\u001b[39m.\u001b[39;49mdelete(trans_normal_ap, idx, axis\u001b[39m=\u001b[39;49m\u001b[39m0\u001b[39;49m)\n\u001b[0;32m     <a href='vscode-notebook-cell:/c%3A/Users/Joao/Desktop/AAS/AAS_project/python/anomaly_detection/Anomaly_Detection.ipynb#X11sZmlsZQ%3D%3D?line=40'>41</a>\u001b[0m trans_abnormal_ap \u001b[39m=\u001b[39m np\u001b[39m.\u001b[39mdelete(trans_abnormal_ap, idx, axis\u001b[39m=\u001b[39m\u001b[39m0\u001b[39m)\n\u001b[0;32m     <a href='vscode-notebook-cell:/c%3A/Users/Joao/Desktop/AAS/AAS_project/python/anomaly_detection/Anomaly_Detection.ipynb#X11sZmlsZQ%3D%3D?line=42'>43</a>\u001b[0m \u001b[39m#Test set\u001b[39;00m\n",
      "File \u001b[1;32m<__array_function__ internals>:5\u001b[0m, in \u001b[0;36mdelete\u001b[1;34m(*args, **kwargs)\u001b[0m\n",
      "File \u001b[1;32mc:\\Users\\Joao\\anaconda3\\lib\\site-packages\\numpy\\lib\\function_base.py:4552\u001b[0m, in \u001b[0;36mdelete\u001b[1;34m(arr, obj, axis)\u001b[0m\n\u001b[0;32m   4550\u001b[0m \u001b[39melse\u001b[39;00m:\n\u001b[0;32m   4551\u001b[0m     keep \u001b[39m=\u001b[39m ones(N, dtype\u001b[39m=\u001b[39m\u001b[39mbool\u001b[39m)\n\u001b[1;32m-> 4552\u001b[0m     keep[obj,] \u001b[39m=\u001b[39m \u001b[39mFalse\u001b[39;00m\n\u001b[0;32m   4554\u001b[0m slobj[axis] \u001b[39m=\u001b[39m keep\n\u001b[0;32m   4555\u001b[0m new \u001b[39m=\u001b[39m arr[\u001b[39mtuple\u001b[39m(slobj)]\n",
      "\u001b[1;31mIndexError\u001b[0m: index 94 is out of bounds for axis 0 with size 79"
     ]
    }
   ],
   "source": [
    "#train set 60 % normal\n",
    "#validation set 20 % normal, 20 % abnormal\n",
    "#test set 20 % normal, 20 % abnormal\n",
    "total_normal_train = int(len(trans_normal_ap) * 0.60)\n",
    "total_normal_val = int(len(trans_normal_ap) * 0.20)\n",
    "total_normal_test = int(len(trans_normal_ap) * 0.20)\n",
    "\n",
    "total_abnormal_val = int(len(trans_abnormal_ap) * 0.20) \n",
    "total_abnormal_test = int(len(trans_abnormal_ap) * 0.20) \n",
    "\n",
    "total_train = total_normal_train\n",
    "total_val = total_normal_val + total_abnormal_val\n",
    "total_test = total_normal_test + total_abnormal_test\n",
    "\n",
    "print(f\"Training set\\n Total examples: {total_train}\\n Total normal: {total_normal_train}\")\n",
    "print(f\"Valadition set\\n Total examples: {total_val}\\n Total normal: {total_normal_val}\\n Total abnormal: {total_abnormal_val}\")\n",
    "print(f\"Test set\\n Total examples: {total_val}\\n Total normal: {total_normal_test}\\n Total abnormal: {total_abnormal_test}\")\n",
    "\n",
    "#Train set\n",
    "idx = np.random.choice(len(trans_normal_ap), size=total_normal_train, replace = False)\n",
    "x_train = trans_normal_ap[idx, :]\n",
    "#remove used examples\n",
    "trans_normal_ap = np.delete(trans_normal_ap, idx, axis=0)\n",
    "\n",
    "print(f\"Train set: {x_train.shape}\")\n",
    "\n",
    "#validation set\n",
    "idx = np.random.choice(len(trans_normal_ap), size=total_normal_val, replace = False)\n",
    "x_val = trans_normal_ap[idx, :]\n",
    "#remove used examples\n",
    "trans_normal_ap = np.delete(trans_normal_ap, idx, axis=0)\n",
    "\n",
    "idx = np.random.choice(len(trans_abnormal_ap), size=total_abnormal_val, replace = False)\n",
    "x_val = np.vstack((x_val, trans_abnormal_ap[idx, :]))\n",
    "#remove used examples\n",
    "trans_abnormal_ap = np.delete(trans_abnormal_ap, idx, axis=0)\n",
    "\n",
    "y_val = np.zeros((total_normal_val, 1))\n",
    "y_val = np.vstack((y_val, np.ones((total_abnormal_val, 1))))\n",
    "\n",
    "print(f\"Validation set: {x_val.shape}\")\n",
    "\n",
    "\n",
    "#Test set\n",
    "idx = np.random.choice(len(trans_normal_ap), size=total_normal_test, replace = False)\n",
    "x_test = trans_normal_ap[idx, :]\n",
    "\n",
    "idx = np.random.choice(len(trans_abnormal_ap), size=total_abnormal_test, replace = False)\n",
    "x_test = np.vstack((x_test, trans_abnormal_ap[idx, :]))\n",
    "\n",
    "y_test = np.zeros((total_normal_test, 1))\n",
    "y_test = np.vstack((y_test, np.ones((total_abnormal_test, 1))))\n",
    "\n",
    "print(f\"Test set: {x_test.shape}\")"
   ]
  },
  {
   "cell_type": "markdown",
   "metadata": {},
   "source": [
    "### Plot data\n",
    "\n",
    "Plot the scater plots of the data subsets (Xtrain,Xval, Xtest) and get figure similar to Fig. 1. \n",
    "\n",
    "<img src=\"images/im1.png\" style=\"width:600px;height:300px;\">\n",
    "<caption><center> **Fig. 1** : **Latency versus Throughput** </center></caption>"
   ]
  },
  {
   "cell_type": "code",
   "execution_count": null,
   "metadata": {},
   "outputs": [],
   "source": [
    "plt.figure(figsize=(14,4))\n",
    "\n",
    "plt.subplot(1, 6, 1)\n",
    "plt.scatter(x_train[:,0], x_train[:,1], marker=\"x\")\n",
    "plt.xlabel(\"mean beacon interval (us)\")\n",
    "plt.ylabel(\"standard deviation\")\n",
    "plt.title(\"Xtrain (only normal ex.)\")\n",
    "plt.xlim(102000, 102800)\n",
    "plt.ylim(0, 10)\n",
    "\n",
    "plt.subplot(1, 6, 3)\n",
    "plt.scatter(x_val[:,0], x_val[:,1], marker=\"x\")\n",
    "plt.xlabel(\"mean beacon interval (us)\")\n",
    "plt.ylabel(\"standard deviation\")\n",
    "plt.title(\"Xval (normal&abnormal ex.)\")\n",
    "plt.xlim(102000, 102800)\n",
    "plt.ylim(0, 10)\n",
    "\n",
    "plt.subplot(1, 6, 5)\n",
    "plt.scatter(x_test[:,0], x_test[:,1], marker=\"x\")\n",
    "plt.xlabel(\"mean beacon interval (us)\")\n",
    "plt.ylabel(\"standard deviation\")\n",
    "plt.title(\"Xtest (normal&abnormal ex.)\")\n",
    "plt.xlim(102000, 102800)\n",
    "plt.ylim(0, 10)"
   ]
  },
  {
   "cell_type": "markdown",
   "metadata": {},
   "source": [
    "### Plot Data\n",
    "\n",
    "Plot the histograms of each feature and get figure simular to Fig.2. \n",
    "\n",
    "\n",
    "<img src=\"images/im2.png\" style=\"width:300px;height:250px;\">\n",
    "<caption><center> **Fig. 1** : **Data distribution** </center></caption>"
   ]
  },
  {
   "cell_type": "code",
   "execution_count": null,
   "metadata": {},
   "outputs": [],
   "source": [
    "plt.figure(figsize=(10, 6))\n",
    "\n",
    "for i in range (0, 3):\n",
    "    plt.subplot(2, 3, i + 1)\n",
    "    plt.hist(x_train[:, i])\n"
   ]
  },
  {
   "cell_type": "markdown",
   "metadata": {},
   "source": [
    "### Gaussian Distribution\n",
    "\n",
    "To perform anomaly detection, you will first need to fit a model only to the normal data.\n",
    "\n",
    "Given a training set {x(1), …, x(m)} (where x(i) ∈ R^n, here n = 2), you want to estimate the Gaussian distribution for each of the features. For each feature (i = 1 . . . n), you need to find parameters mean and variance(mu, sigma²). For doing that let’s write down the function that calculates the mean and variance of matrix Xtrain.\n",
    "\n",
    "The Gaussian distribution is given by:  $p(x;\\mu,\\sigma^2) = \\frac{1}{\\sqrt{2\\pi\\sigma^2}}e^{\\frac{(x-\\mu)^2}{2\\sigma^2}}$\n",
    "\n",
    "mean:  $\\mu_i = \\frac{1}{m}\\sum^m_{j=1}x^{(j)}$\n",
    "\n",
    "variance:  $\\sigma^2_i = \\frac{1}{m}\\sum^m_{j=1}(x^{(j)} - \\mu_j)^2$"
   ]
  },
  {
   "cell_type": "code",
   "execution_count": null,
   "metadata": {},
   "outputs": [],
   "source": [
    "def estimateGaussian(X):\n",
    "    \"\"\"\n",
    "     This function estimates the parameters of a Gaussian distribution using the data in X\n",
    "    \"\"\"\n",
    "    m = X.shape[0]  #number of examples in X\n",
    "    \n",
    "    #compute mean \n",
    "    mu = np.mean(X, axis=0)\n",
    "     \n",
    "    # compute variance =sigma^2\n",
    "    sigma2 = 1/m * np.sum((X - mu)**2,axis=0)\n",
    "    \n",
    "    return mu,sigma2"
   ]
  },
  {
   "cell_type": "code",
   "execution_count": null,
   "metadata": {},
   "outputs": [],
   "source": [
    "# Estimate parameters (mean and variance) for the Gaussian model of the normal data (Xtrain)\n",
    "# ANSWER:    mu =  [14.06411334 15.02441479] ; sigma2 = [0.93434723 0.8506542 ]\n",
    "\n",
    "mu, sigma2 = estimateGaussian(x_train)\n",
    "print(f\"mu = {mu} ; sigma2 = {sigma2}\")\n",
    "\n"
   ]
  },
  {
   "cell_type": "markdown",
   "metadata": {},
   "source": [
    "### Multivariate Gaussian Distribution\n",
    "\n",
    "Inside *multivariateGaussian*, $\\sigma^2$ vector is converted into the covariance matrix  $\\Sigma$.  Assuming the features are independent, each element of vector $\\sigma^2$ will be on the diagonal of matrix $\\Sigma$ and the rest of the elements are zero. \n",
    "Then the formula for the multivariate distribution to get the probability vector is applied.\n",
    "\n",
    "$p(x;\\mu,\\Sigma) = \\frac{1}{(2\\pi)^{n/2}|\\Sigma|^{1/2}} exp(-\\frac{1}{2}(x-\\mu)^T\\Sigma^{-1}(x-\\mu))$"
   ]
  },
  {
   "cell_type": "code",
   "execution_count": null,
   "metadata": {},
   "outputs": [],
   "source": [
    "#Complete the function\n",
    "def multivariateGaussian(X, mu, sigma2):\n",
    "    \"\"\"\n",
    "    Computes the probability density function of the multivariate Gaussian distribution.\n",
    "    \"\"\"\n",
    "    n= len(mu) #number of features \n",
    "    sigma_diag=np.diag(sigma2)  #Diagonal matrix (features are independent !!!!)\n",
    "    X = X - mu.T\n",
    "    p = 1/((2*np.pi)**(n/2)*(np.linalg.det(sigma_diag)**0.5))* np.exp(-0.5* np.sum(X @ np.linalg.pinv(sigma_diag) * X,axis=1))\n",
    "    return p"
   ]
  },
  {
   "cell_type": "markdown",
   "metadata": {},
   "source": [
    "### Select the threshold $\\epsilon$  that will flag an example as anomaly\n",
    "\n",
    "F1 score is used to determine the best parameters i.e best epsilon and best F1 instead of accuracy as the dataset is highly unbalanced. F1 score takes into consideration precision and recall.\n",
    "\n",
    "Precision = true positive/(true positive + false positive)\n",
    "\n",
    "Recall = true positive /(true positive + false negative)\n",
    "\n",
    "F1=2(Recall * Precision) / (Recall + Precision)\n",
    "\n",
    "Best parameters are the ones in which the F1 score value is maximum.\n",
    "\n",
    "Predict anomaly if pval<epsilon that gives a vector of binary values in the variable predictions.\n",
    "\n",
    "Note: We need a try-except block because there can be cases where we divide by zero to calculate precision and recall."
   ]
  },
  {
   "cell_type": "code",
   "execution_count": null,
   "metadata": {},
   "outputs": [],
   "source": [
    "from sklearn.metrics import confusion_matrix\n",
    "\n",
    "#Complete the function\n",
    "def selectThreshold(yval, pval):\n",
    "    \"\"\"\n",
    "    Find the best threshold (epsilon) to use for selecting outliers\n",
    "    \"\"\"\n",
    "    best_epi = 0\n",
    "    best_F1 = 0\n",
    "    best_tn = 0\n",
    "    best_fp = 0\n",
    "    best_fn = 0\n",
    "    best_tp = 0\n",
    "\n",
    "    #range of threshold values to decide the best one. \n",
    "    stepsize = (max(pval) -min(pval))/1000\n",
    "    epi_range = np.arange(pval.min(),pval.max(),stepsize)\n",
    "    for epi in epi_range:\n",
    "        predictions = (pval<epi)[:,np.newaxis]\n",
    "        #compute true positive (TP)\n",
    "        #tp = np.sum(predictions[yval==1]==1)\n",
    "\n",
    "        #compute true negative (TN)\n",
    "        #tn = np.sum(predictions[yval==0]==0)\n",
    "        \n",
    "        #compute false positive (FP)\n",
    "        #fp = np.sum(predictions[yval==0]==1)\n",
    "        \n",
    "        #compute false negative \n",
    "        #fn = np.sum(predictions[yval==1]==0)      \n",
    "        \n",
    "        tn, fp, fn, tp = confusion_matrix(yval, predictions).ravel()\n",
    "        \n",
    "        try:\n",
    "        # compute precision, recall and F1\n",
    "            prec = tp/(tp+fp)\n",
    "            \n",
    "            #compute recall and F1\n",
    "            rec = tp/(tp+fn)\n",
    "\n",
    "            #compute  F1\n",
    "            F1 = (2*prec*rec)/(prec+rec) \n",
    "        \n",
    "            if F1 > best_F1:\n",
    "                best_F1 = F1\n",
    "                best_epi = epi\n",
    "                best_tn = tn\n",
    "                best_fp = fp\n",
    "                best_fn = fn\n",
    "                best_tp = tp\n",
    "            \n",
    "        except ZeroDivisionError:\n",
    "                print('Warning dividing by zero!!')  \n",
    "        \n",
    "    return best_epi, best_F1, best_tn, best_fp, best_fn, best_tp"
   ]
  },
  {
   "cell_type": "code",
   "execution_count": null,
   "metadata": {},
   "outputs": [],
   "source": [
    "#Apply multivariateGaussian to compute the probability of the examples in Xval. \n",
    "pval = multivariateGaussian(x_val, mu, sigma2)\n",
    "\n",
    "#Apply selectThreshold to compute the best epsilon and best F1 with the validation data\n",
    "epsilon, F1, tn, fp, fn, tp = selectThreshold(y_val, pval)\n",
    "\n",
    "print(f\"True positives: {tp}\")\n",
    "print(f\"False positives: {fp}\")\n",
    "print(f\"True negatives: {tn}\")\n",
    "print(f\"False negatives: {fn}\")\n",
    "\n",
    "print(\"Best epsilon found using cross-validation:\",epsilon)  #ANSWER: 0.00018\n",
    "print(\"Best F1 on Cross Validation Set:\",F1)  #ANSWER: 0.8235\n"
   ]
  },
  {
   "cell_type": "markdown",
   "metadata": {},
   "source": [
    "We need to return the indices of the outliers to identify the faulty servers. This gives us a vector with binary entries where 1 means anomaly and 0 means normal."
   ]
  },
  {
   "cell_type": "code",
   "execution_count": null,
   "metadata": {},
   "outputs": [],
   "source": [
    "def findIndices(binVec):\n",
    "    l = []\n",
    "    for i in range(len(binVec)):\n",
    "        if binVec[i] == 1:\n",
    "            l.append(i)\n",
    "    return l"
   ]
  },
  {
   "cell_type": "code",
   "execution_count": null,
   "metadata": {},
   "outputs": [],
   "source": [
    "#Apply multivariateGaussian to detect abnormal examples (outliers) \n",
    "p = multivariateGaussian(x_test, mu, sigma2)\n",
    "\n",
    "outl = (p < epsilon)\n",
    "listOfOutliers=findIndices(outl)\n",
    "count_outliers = len(listOfOutliers)\n",
    "print('\\n\\nNumber of outliers (Xtest):', count_outliers)  #ANSWER: 6 \n",
    "print('\\n',listOfOutliers)\n"
   ]
  },
  {
   "cell_type": "markdown",
   "metadata": {},
   "source": [
    "### Visualize the anomalies"
   ]
  },
  {
   "cell_type": "code",
   "execution_count": null,
   "metadata": {},
   "outputs": [],
   "source": [
    "plt.figure(figsize=(10,4))\n",
    "plt.subplot(1, 2, 1)\n",
    "plt.scatter(x_test[:, 0], x_test[:, 1], marker = \"x\")\n",
    "plt.xlabel('Latency(ms)')\n",
    "plt.ylabel('Throughput(mb/s)')\n",
    "plt.scatter(x_test[listOfOutliers,0], x_test[listOfOutliers, 1], facecolors = 'none', edgecolors = 'r')\n",
    "plt.xlim(102000, 102800)\n",
    "plt.ylim(0, 10)\n",
    "plt.show()"
   ]
  },
  {
   "cell_type": "code",
   "execution_count": null,
   "metadata": {},
   "outputs": [],
   "source": []
  }
 ],
 "metadata": {
  "kernelspec": {
   "display_name": "base",
   "language": "python",
   "name": "python3"
  },
  "language_info": {
   "codemirror_mode": {
    "name": "ipython",
    "version": 3
   },
   "file_extension": ".py",
   "mimetype": "text/x-python",
   "name": "python",
   "nbconvert_exporter": "python",
   "pygments_lexer": "ipython3",
   "version": "3.9.12"
  },
  "vscode": {
   "interpreter": {
    "hash": "5b049e0d8dbe27eb2429633ecf6e179f97c229c3966c74ad700c557273ad4a0f"
   }
  }
 },
 "nbformat": 4,
 "nbformat_minor": 2
}
